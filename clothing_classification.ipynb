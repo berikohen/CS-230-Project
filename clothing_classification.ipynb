{
  "nbformat": 4,
  "nbformat_minor": 0,
  "metadata": {
    "colab": {
      "name": "CS230Project.ipynb",
      "provenance": [],
      "collapsed_sections": []
    },
    "kernelspec": {
      "name": "python3",
      "display_name": "Python 3"
    },
    "accelerator": "GPU"
  },
  "cells": [
    {
      "cell_type": "code",
      "metadata": {
        "id": "drFuRVvvWc-B"
      },
      "source": [
        "# Import file reading and image packages\n",
        "import os\n",
        "import json\n",
        "from PIL import Image\n",
        "from PIL import ImageOps\n",
        "import requests\n",
        "from io import BytesIO\n",
        "import matplotlib.pyplot as plt"
      ],
      "execution_count": 2,
      "outputs": []
    },
    {
      "cell_type": "code",
      "metadata": {
        "id": "deLDh9iGfjNg"
      },
      "source": [
        "# Import array and ML packages\n",
        "import numpy as np\n",
        "import tensorflow as tf\n",
        "from keras.utils import to_categorical\n",
        "from keras.datasets import fashion_mnist\n",
        "import keras\n",
        "from keras.models import Sequential,Input,Model\n",
        "from keras.layers import Dense, Dropout, Flatten\n",
        "from keras.layers import Conv2D, MaxPooling2D\n",
        "from keras.layers.normalization import BatchNormalization\n",
        "from keras.layers.advanced_activations import LeakyReLU\n",
        "from sklearn.model_selection import train_test_split\n",
        "from sklearn.metrics import classification_report\n",
        "from keras.preprocessing.image import ImageDataGenerator"
      ],
      "execution_count": 3,
      "outputs": []
    },
    {
      "cell_type": "code",
      "metadata": {
        "id": "GkoaJXqyWnG6",
        "outputId": "e4f8f7f2-a551-49d6-ea4f-439e68207dc8",
        "colab": {
          "base_uri": "https://localhost:8080/"
        }
      },
      "source": [
        "# Connect to Drive\n",
        "from google.colab import drive\n",
        "drive.mount('/content/drive')"
      ],
      "execution_count": 4,
      "outputs": [
        {
          "output_type": "stream",
          "text": [
            "Mounted at /content/drive\n"
          ],
          "name": "stdout"
        }
      ]
    },
    {
      "cell_type": "code",
      "metadata": {
        "id": "nEcKP1GELsEp"
      },
      "source": [
        "# Read photo url file\n",
        "# Store into dictionary where key is the photo id and value is the url\n",
        "dir_name = '/content/drive/My Drive/CS 230 '\n",
        "url_dict = {}\n",
        "with open(os.path.join(dir_name, 'photos.txt')) as f:\n",
        "    for line in f:\n",
        "        cur_line = line.split(\",\")\n",
        "        url_dict[int(cur_line[0])] = cur_line[1][:-1]"
      ],
      "execution_count": null,
      "outputs": []
    },
    {
      "cell_type": "code",
      "metadata": {
        "id": "Z3zk8xMROFb1"
      },
      "source": [
        "# Function for producing input output pairs for a given category\n",
        "# For each street image, it gets the shop image with the corresponding id. If\n",
        "# the url is inaccessible, the pair is skipped.\n",
        "def extract_pairs(dir_name, category, set_type):\n",
        "    print(category + set_type)\n",
        "    with open(os.path.join(dir_name, set_type + '_pairs_' + category + '.json')) as f:\n",
        "        street_list = json.load(f)\n",
        "\n",
        "    with open(os.path.join(dir_name, 'retrieval_' + category + '.json')) as f:\n",
        "        product_list = json.load(f)\n",
        "\n",
        "    product_dict = {}\n",
        "    for pair in product_list:\n",
        "        product_dict[pair['product']] = pair['photo']\n",
        "    \n",
        "    image_dir = '/content/drive/My Drive/CS 230 /images/' + category + '/' + set_type\n",
        "    os.chdir(image_dir)\n",
        "    pair_list = []\n",
        "    counter = 0\n",
        "    error_counter = 0\n",
        "    for info in street_list:\n",
        "        counter += 1\n",
        "        if counter % 200 == 0:\n",
        "            print(counter)\n",
        "        photo_id = info['photo']\n",
        "        user_image_response = requests.get(url_dict[photo_id])\n",
        "        try:\n",
        "            user_image = Image.open(BytesIO(user_image_response.content))\n",
        "        except:\n",
        "            error_counter += 1\n",
        "            continue\n",
        "        box = info['bbox']\n",
        "        cropped_user_image = user_image.crop((box['left'], box['top'], box['left'] + box['width'], box['top'] + box['height']))\n",
        "        shop_image_id = product_dict[info['product']]\n",
        "        shop_image_response = requests.get(url_dict[shop_image_id])\n",
        "        try:\n",
        "            shop_image = Image.open(BytesIO(shop_image_response.content))\n",
        "            cropped_user_image.save(image_dir + '/' + \"input_\" + str(counter - error_counter) + '.jpeg')\n",
        "            shop_image.save(image_dir + '/' + \"output_\" + str(counter - error_counter) + '.jpeg')\n",
        "        except: \n",
        "            error_counter += 1\n",
        "    print(\"final:\")\n",
        "    print(counter)\n",
        "  "
      ],
      "execution_count": null,
      "outputs": []
    },
    {
      "cell_type": "code",
      "metadata": {
        "id": "MMnioEdU5_Mv"
      },
      "source": [
        "# Produce input output pairs for each category, save on drive\n",
        "json_dir_name = 'drive/My Drive/CS 230 /json'\n",
        "category_list = ['bags','belts','dresses','eyewear','footwear','hats','leggings','outerwear','pants','skirts','tops']\n",
        "\n",
        "for category in category_list:\n",
        "    extract_pairs(json_dir_name,category,'train')\n",
        "    extract_pairs(json_dir_name,category,'test')"
      ],
      "execution_count": null,
      "outputs": []
    },
    {
      "cell_type": "code",
      "metadata": {
        "id": "E9PtjGDfLsTK"
      },
      "source": [
        "# Loops through images in drive to produce input/output pairs where\n",
        "# the input is an image of an article of clothing and the output is the type of\n",
        "# clothing\n",
        "def process_data(category, set_type, width, height):\n",
        "    dir = '/content/drive/My Drive/CS 230 /images/' + category + '/' + set_type\n",
        "    os.chdir(dir)\n",
        "    image_list = []\n",
        "    for image_name in os.listdir():\n",
        "        if image_name[0] == 'i':\n",
        "            resized_image = Image.open(image_name).resize((width, height))\n",
        "            grayscale = ImageOps.grayscale(resized_image)\n",
        "            image_array = np.asarray(grayscale)\n",
        "            image_list.append(image_array)\n",
        "    X = np.asarray(image_list)\n",
        "    Y = np.asarray([category for i in range(len(X))])\n",
        "    return (X, Y)"
      ],
      "execution_count": null,
      "outputs": []
    },
    {
      "cell_type": "code",
      "metadata": {
        "id": "WPTCgsAyLsYJ",
        "outputId": "92362c91-2b66-434e-a57f-c119679659c6",
        "colab": {
          "base_uri": "https://localhost:8080/"
        }
      },
      "source": [
        "# Produces input output pairs for all categories\n",
        "width = 64\n",
        "height = 64\n",
        "train_X = [0]\n",
        "train_Y = [0]\n",
        "test_X = [0]\n",
        "test_Y = [0]\n",
        "category_list = ['belts','eyewear','bags','footwear','hats','leggings','outerwear','pants','tops','dresses','skirts']\n",
        "\n",
        "for category in category_list:\n",
        "    cur_train = process_data(category, 'train', width, height)\n",
        "    cur_test = process_data(category, 'test', width, height)\n",
        "    if len(train_X) == 1:\n",
        "        train_X = cur_train[0]\n",
        "        train_Y = cur_train[1]\n",
        "        test_X = cur_test[0]\n",
        "        test_Y = cur_test[1]\n",
        "    else:\n",
        "        train_X = np.concatenate((train_X, cur_train[0]))\n",
        "        train_Y = np.concatenate((train_Y, cur_train[1]))\n",
        "        test_X = np.concatenate((test_X, cur_test[0]))\n",
        "        test_Y = np.concatenate((test_Y, cur_test[1]))\n",
        "    print(\"Category complete\\n\")\n",
        "    print(\"Train size: \" + str(len(train_X)) + '\\n')\n",
        "    print(\"Test size: \" + str(len(test_X)) + '\\n')"
      ],
      "execution_count": null,
      "outputs": [
        {
          "output_type": "stream",
          "text": [
            "Category complete\n",
            "\n",
            "Train size: 20592\n",
            "\n",
            "Test size: 6088\n",
            "\n",
            "Category complete\n",
            "\n",
            "Train size: 22603\n",
            "\n",
            "Test size: 6480\n",
            "\n"
          ],
          "name": "stdout"
        }
      ]
    },
    {
      "cell_type": "code",
      "metadata": {
        "id": "amk2E0tRbhr0"
      },
      "source": [
        "# Save data\n",
        "os.chdir('/content/drive/My Drive/CS 230 /classification_model_data')\n",
        "train_X_reshaped = train_X.reshape(train_X.shape[0], -1)\n",
        "test_X_reshaped = test_X.reshape(test_X.shape[0], -1)\n",
        "train_X_shape = train_X.shape\n",
        "test_X_shape = test_X.shape\n",
        "np.savetxt(\"train_X_reshaped.csv\",train_X_reshaped)\n",
        "np.savetxt(\"test_X_reshaped.csv\",test_X_reshaped)\n",
        "np.savetxt(\"train_Y.csv\",train_Y, fmt = \"%s\")\n",
        "np.savetxt(\"test_Y.csv\", test_Y, fmt = \"%s\")\n"
      ],
      "execution_count": null,
      "outputs": []
    },
    {
      "cell_type": "code",
      "metadata": {
        "id": "ifbGvwwB7E2s"
      },
      "source": [
        "# Load data from drive\n",
        "os.chdir('/content/drive/My Drive/CS 230 /classification_model_data_64')\n",
        "train_X_reshaped = np.loadtxt(\"train_X_reshaped.csv\")\n",
        "test_X_reshaped = np.loadtxt(\"test_X_reshaped.csv\")\n",
        "train_Y = np.loadtxt(\"train_Y.csv\", dtype = 'str')\n",
        "test_Y = np.loadtxt(\"test_Y.csv\", dtype = 'str')"
      ],
      "execution_count": 5,
      "outputs": []
    },
    {
      "cell_type": "code",
      "metadata": {
        "id": "pea_cPbqfsMH"
      },
      "source": [
        "# Number of training examples:\n",
        "# - bags: 444, belts: 140, eyewear 147, footwear 5342, hats 290, leggings 1348, outerwear 811, pants 411, tops 1799, dresses 10148, skirts 2011\n",
        "# Eliminate unwanted categories\n",
        "i = 0\n",
        "while(i != len(train_Y)):\n",
        "    if train_Y[i] != 'footwear' and train_Y[i] != 'leggings' and train_Y[i] != 'pants' and train_Y[i] != 'tops' and train_Y[i] != 'dresses' and train_Y[i] != 'skirts':\n",
        "        train_Y = np.delete(train_Y, i)\n",
        "        train_X_reshaped = np.delete(train_X_reshaped, i, axis = 0)\n",
        "    else:\n",
        "        i += 1\n",
        "\n",
        "i = 0\n",
        "test_length = len(test_Y)\n",
        "while(i != len(test_Y)):\n",
        "    if test_Y[i] != 'footwear' and test_Y[i] != 'leggings' and test_Y[i] != 'pants' and test_Y[i] != 'tops' and test_Y[i] != 'dresses' and test_Y[i] != 'skirts':\n",
        "        test_Y = np.delete(test_Y, i)\n",
        "        test_X_reshaped = np.delete(test_X_reshaped, i, axis = 0)\n",
        "    else:\n",
        "        i += 1"
      ],
      "execution_count": 6,
      "outputs": []
    },
    {
      "cell_type": "code",
      "metadata": {
        "id": "PeO6Qc0K8H3B"
      },
      "source": [
        "# Reformat input data into 4D\n",
        "width = 64\n",
        "height = 64\n",
        "train_X = train_X_reshaped.reshape((train_X_reshaped.shape[0],width,height)).reshape(-1, width,  height, 1)\n",
        "test_X = test_X_reshaped.reshape((test_X_reshaped.shape[0],width,height)).reshape(-1, width, height, 1)"
      ],
      "execution_count": 7,
      "outputs": []
    },
    {
      "cell_type": "code",
      "metadata": {
        "id": "0Oz0NkB7l1JJ"
      },
      "source": [
        "# Convert string category labels to numbers 0 through 10\n",
        "# Initially we used the encoding commented below, then we reduced the number of classes\n",
        "#encoding = {'belts': 0,'eyewear': 1,'bags': 2,'footwear': 3,'hats': 4,'leggings': 5,'outerwear': 6,'pants': 7,'tops': 8,'dresses': 9,'skirts': 10}\n",
        "encoding = {\"footwear\":0,\"pants\":1,\"leggings\":1, \"tops\":2,\"dresses\":3,\"skirts\":4}\n",
        "\n",
        "train_Y_encoded = np.zeros(train_Y.shape)\n",
        "for i in range(len(train_Y)):\n",
        "    train_Y_encoded[i] = encoding[train_Y[i]]\n",
        "\n",
        "test_Y_encoded = np.zeros(test_Y.shape)\n",
        "for i in range(len(test_Y)):\n",
        "    test_Y_encoded[i] = encoding[test_Y[i]]"
      ],
      "execution_count": 8,
      "outputs": []
    },
    {
      "cell_type": "code",
      "metadata": {
        "id": "hBqIBHHumPU1"
      },
      "source": [
        "# preprocess and shuffle training set\n",
        "\n",
        "num_classes = 5\n",
        "\n",
        "np.random.seed(230)\n",
        "\n",
        "rng_state = np.random.get_state()\n",
        "train_X_shuffled = train_X.copy()/255.\n",
        "np.random.shuffle(train_X_shuffled)\n",
        "train_Y_categorical = to_categorical(train_Y_encoded, num_classes = num_classes) # one hot encoding\n",
        "np.random.set_state(rng_state)\n",
        "train_Y_shuffled = train_Y_categorical.copy()\n",
        "np.random.shuffle(train_Y_shuffled)\n",
        "\n",
        "# Shuffle and create validation and test sets\n",
        "rng_state = np.random.get_state()\n",
        "test_X_shuffled = test_X.copy()/255.\n",
        "np.random.shuffle(test_X_shuffled)\n",
        "test_Y_categorical = to_categorical(test_Y_encoded, num_classes = num_classes)\n",
        "np.random.set_state(rng_state)\n",
        "test_Y_shuffled = test_Y_categorical.copy()\n",
        "np.random.shuffle(test_Y_shuffled)\n",
        "\n",
        "midpoint = int(len(test_X_shuffled)/2)\n",
        "valid_X = test_X_shuffled[0:midpoint]\n",
        "valid_Y = test_Y_shuffled[0:midpoint]\n",
        "test_X = test_X_shuffled[midpoint:]\n",
        "test_Y = test_Y_shuffled[midpoint:]"
      ],
      "execution_count": 9,
      "outputs": []
    },
    {
      "cell_type": "code",
      "metadata": {
        "id": "FipKyvy-Hvp5"
      },
      "source": [
        "# Set up and compile Keras model (model version for 28*28 input)\n",
        "batch_size = 32\n",
        "num_classes = 11\n",
        "epochs = 20\n",
        "\n",
        "category_class_model = Sequential()\n",
        "category_class_model.add(Conv2D(32, kernel_size=(3, 3),activation='relu',padding='same',input_shape=(28,28,1)))\n",
        "category_class_model.add(MaxPooling2D((2, 2),padding='same'))\n",
        "category_class_model.add(Dropout(0.25))\n",
        "category_class_model.add(Conv2D(64, (3, 3), activation='relu',padding='same'))\n",
        "category_class_model.add(MaxPooling2D(pool_size=(2, 2),padding='same'))\n",
        "category_class_model.add(Dropout(0.25))\n",
        "category_class_model.add(Conv2D(128, (3, 3), activation='relu',padding='same'))         \n",
        "category_class_model.add(MaxPooling2D(pool_size=(2, 2),padding='same'))\n",
        "category_class_model.add(Dropout(0.4))\n",
        "category_class_model.add(Flatten())\n",
        "category_class_model.add(Dense(128, activation='relu'))     \n",
        "category_class_model.add(Dropout(0.3))\n",
        "category_class_model.add(Dense(num_classes, activation='softmax'))\n",
        "category_class_model.compile(loss=keras.losses.categorical_crossentropy, optimizer=keras.optimizers.Adam(),\n",
        "                             metrics=['accuracy', tf.keras.metrics.TopKCategoricalAccuracy(k=2)])\n",
        "category_class_model.summary()"
      ],
      "execution_count": null,
      "outputs": []
    },
    {
      "cell_type": "code",
      "metadata": {
        "id": "HfZRVuBfX-iY"
      },
      "source": [
        "# Set up and compile Keras model (model version for 64*64 input)\n",
        "batch_size = 64\n",
        "num_classes = 5\n",
        "epochs = 50\n",
        "\n",
        "category_class_model = Sequential()\n",
        "category_class_model.add(Conv2D(32, kernel_size=(3, 3),activation='relu',padding='same',input_shape=(64,64,1)))\n",
        "category_class_model.add(MaxPooling2D((2, 2),padding='same'))\n",
        "category_class_model.add(Dropout(0.3))\n",
        "category_class_model.add(Conv2D(64, (3, 3), activation='relu',padding='same'))\n",
        "category_class_model.add(MaxPooling2D(pool_size=(2, 2),padding='same'))\n",
        "category_class_model.add(Dropout(0.3))\n",
        "category_class_model.add(Conv2D(128, (3, 3), activation='relu',padding='same'))         \n",
        "category_class_model.add(MaxPooling2D(pool_size=(2, 2),padding='same'))\n",
        "category_class_model.add(Dropout(0.4))\n",
        "category_class_model.add(Conv2D(256, (3, 3), activation='relu',padding='same'))         \n",
        "category_class_model.add(MaxPooling2D(pool_size=(2, 2),padding='same'))\n",
        "category_class_model.add(Dropout(0.4))\n",
        "category_class_model.add(Flatten())\n",
        "category_class_model.add(Dense(256, activation='relu'))     \n",
        "category_class_model.add(Dropout(0.3))\n",
        "category_class_model.add(Dense(num_classes, activation='softmax'))\n",
        "\n",
        "category_class_model.summary()\n",
        "category_class_model.compile(loss=keras.losses.categorical_crossentropy, optimizer=keras.optimizers.Adam(),metrics=['accuracy', tf.keras.metrics.TopKCategoricalAccuracy(k=2)])\n",
        "\n"
      ],
      "execution_count": null,
      "outputs": []
    },
    {
      "cell_type": "code",
      "metadata": {
        "id": "5gOKkqiKt6_h"
      },
      "source": [
        "# train model\n",
        "category_class_model.fit(train_X_shuffled, train_Y_shuffled, batch_size=batch_size,epochs=epochs,verbose=1)"
      ],
      "execution_count": null,
      "outputs": []
    },
    {
      "cell_type": "code",
      "metadata": {
        "id": "kjqqlCAhC25k"
      },
      "source": [
        "test_eval = category_class_model.evaluate(test_X, test_Y, verbose=1)\n",
        "\n",
        "# validation data loss and validation data accuracy\n",
        "print(test_eval)"
      ],
      "execution_count": null,
      "outputs": []
    },
    {
      "cell_type": "code",
      "metadata": {
        "id": "TyqigTDa-G4K",
        "outputId": "fafc5d7f-029a-499b-e7ac-243b9ef68a5c",
        "colab": {
          "base_uri": "https://localhost:8080/",
          "height": 545
        }
      },
      "source": [
        "# Plot graph b/w accuracy and loss on training and validation dataset\n",
        "\n",
        "accuracy = history.history['accuracy']\n",
        "loss = history.history['loss']\n",
        "epochs = range(len(accuracy))\n",
        "plt.plot(epochs, accuracy, 'bo', label='Training accuracy')\n",
        "plt.title('Training accuracy')\n",
        "plt.legend()\n",
        "plt.figure()\n",
        "plt.plot(epochs, loss, 'bo', label='Training loss')\n",
        "plt.title('Training loss')\n",
        "plt.legend()\n",
        "plt.show()"
      ],
      "execution_count": null,
      "outputs": [
        {
          "output_type": "display_data",
          "data": {
            "image/png": "[encoded data removed]",
            "text/plain": [
              "<Figure size 432x288 with 1 Axes>"
            ]
          },
          "metadata": {
            "tags": [],
            "needs_background": "light"
          }
        },
        {
          "output_type": "display_data",
          "data": {
            "image/png": "[encoded data removed]",
            "text/plain": [
              "<Figure size 432x288 with 1 Axes>"
            ]
          },
          "metadata": {
            "tags": [],
            "needs_background": "light"
          }
        }
      ]
    }
  ]
}